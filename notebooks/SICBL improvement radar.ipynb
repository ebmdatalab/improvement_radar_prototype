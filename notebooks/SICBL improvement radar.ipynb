{
 "cells": [
  {
   "cell_type": "code",
   "execution_count": 1,
   "metadata": {},
   "outputs": [],
   "source": [
    "import requests\n",
    "from pathlib import Path\n",
    "import pandas as pd\n",
    "import numpy as np\n",
    "from IPython.display import Markdown, display\n",
    "import matplotlib.pyplot as plt\n",
    "from ebmdatalab import bq\n",
    "import os\n",
    "import json\n",
    "from pandas import json_normalize\n",
    "import shutil\n",
    "import matplotlib.ticker as mtick\n",
    "import logging\n",
    "import sys\n",
    "\n",
    "DATA_FOLDER = Path(\"data/ccg_data_\")\n",
    "GITHUB_API_URL = 'https://api.github.com'\n",
    "REPO_OWNER = 'ebmdatalab'\n",
    "REPO_NAME = 'openprescribing'\n",
    "PATH = 'openprescribing/measures/definitions'\n",
    "CONTENT_URL = f'{GITHUB_API_URL}/repos/{REPO_OWNER}/{REPO_NAME}/contents/{PATH}'"
   ]
  },
  {
   "cell_type": "code",
   "execution_count": 2,
   "metadata": {
    "lines_to_next_cell": 2
   },
   "outputs": [],
   "source": [
    "def fetch_from_url(url):\n",
    "    \"\"\"Fetch the content from a given URL.\"\"\"\n",
    "    try:\n",
    "        response = requests.get(url)\n",
    "        response.raise_for_status()\n",
    "        return response.json()\n",
    "    except requests.RequestException as e:\n",
    "        print(f\"Error fetching data from {url}: {e}\")\n",
    "        return None\n",
    "\n",
    "def filter_json_files(file_list):\n",
    "    \"\"\"Filter files to only include those with a .json extension.\"\"\"\n",
    "    return [f for f in file_list if f['name'].endswith('.json')]\n",
    "\n",
    "def extract_measure_names(file_list):\n",
    "    \"\"\"Extract measure names from a list of files.\"\"\"\n",
    "    measure_names = {}\n",
    "    for file in file_list:\n",
    "        name = file['name'].replace('.json', '')\n",
    "        content_url = file['download_url']\n",
    "        content_data = fetch_from_url(content_url)\n",
    "        if content_data:\n",
    "            measure_name = content_data.get('name', '')\n",
    "            measure_names[name] = measure_name\n",
    "    return measure_names\n",
    "\n",
    "def cache_data(df, cache_path):\n",
    "    \"\"\"Cache the data to a CSV file.\"\"\"\n",
    "    df.to_csv(cache_path, index=False)\n",
    "\n",
    "def load_cache(cache_path):\n",
    "    \"\"\"Load cached data from a CSV file if it exists.\"\"\"\n",
    "    if cache_path.exists():\n",
    "        return pd.read_csv(cache_path)\n",
    "    return None\n",
    "\n",
    "def compute_deciles(measure_table, groupby_col, values_col, has_outer_percentiles=False):\n",
    "    \"\"\"\n",
    "    Computes deciles.\n",
    "\n",
    "    Args:\n",
    "        measure_table (pd.DataFrame): A measure table.\n",
    "        groupby_col (str): The name of the column to group by.\n",
    "        values_col (str): The name of the column for which deciles are computed.\n",
    "        has_outer_percentiles (bool, optional): Whether to compute the nine largest and nine smallest\n",
    "            percentiles as well as the deciles. Defaults to False.\n",
    "\n",
    "    Returns:\n",
    "        pd.DataFrame: A data frame with `groupby_col`, `values_col`, and `percentile` columns.\n",
    "    \"\"\"\n",
    "    \n",
    "    quantiles = np.linspace(0.1, 0.9, 9)\n",
    "    \n",
    "    if has_outer_percentiles:\n",
    "        lower_percentiles = np.linspace(0.01, 0.09, 9)\n",
    "        upper_percentiles = np.linspace(0.91, 0.99, 9)\n",
    "        quantiles = np.concatenate([lower_percentiles, quantiles, upper_percentiles])\n",
    "    \n",
    "    percentiles = (\n",
    "        measure_table.groupby(groupby_col)[values_col]\n",
    "        .quantile(quantiles)\n",
    "        .reset_index()\n",
    "    )\n",
    "    \n",
    "    percentiles[\"percentile\"] = (percentiles[\"level_1\"] * 100).astype(int)\n",
    "    percentiles = percentiles[[groupby_col, \"percentile\", values_col]]\n",
    "    \n",
    "    return percentiles\n",
    "\n",
    "def plot_percentiles(ax, deciles_lidocaine):\n",
    "    \"\"\"Plot percentiles on the given axes.\"\"\"\n",
    "    linestyles = {\n",
    "        \"decile\": {\"line\": \"b--\", \"linewidth\": 1, \"label\": \"Decile\"},\n",
    "        \"median\": {\"line\": \"b-\", \"linewidth\": 1.5, \"label\": \"Median\"},\n",
    "        \"percentile\": {\"line\": \"b:\", \"linewidth\": 0.8, \"label\": \"1st-9th, 91st-99th percentile\"},\n",
    "    }\n",
    "    label_seen = []\n",
    "\n",
    "    for percentile in range(1, 100):\n",
    "        data = deciles_lidocaine[deciles_lidocaine[\"percentile\"] == percentile]\n",
    "        style = linestyles[\"median\"] if percentile == 50 else linestyles[\"decile\"]\n",
    "        label = style[\"label\"] if percentile == 50 or \"decile\" not in label_seen else \"_nolegend_\"\n",
    "        if \"decile\" not in label_seen and percentile != 50:\n",
    "            label_seen.append(\"decile\")\n",
    "        ax.plot(data[\"month\"], data[\"rate\"], style[\"line\"], linewidth=style[\"linewidth\"], label=label)\n",
    "        \n",
    "def format_label(label):\n",
    "    if pd.isna(label):\n",
    "        return \"rate\"  # Return \"rate\" if label is NaN\n",
    "    try:\n",
    "        label_str = str(label)  # Convert label to string\n",
    "        label_length = len(label_str)  # Get the length of the label\n",
    "    except TypeError:\n",
    "        return \"rate\"  # Return \"rate\" if label is not convertible to string\n",
    "    if label_length == 0:\n",
    "        return \"rate\"\n",
    "    if label_length > 30:  # Adjust the threshold length as needed\n",
    "        middle_index = label_length // 2\n",
    "        last_space_index = label_str.rfind(' ', 0, middle_index)  # Find the last space before the middle index\n",
    "        if last_space_index != -1:  # If a space was found\n",
    "            return label_str[:last_space_index] + '\\n' + label_str[last_space_index+1:]  # Split at the last space\n",
    "    return label_str\n",
    "\n",
    "def plot_org_data(org, data, deciles, percentage, y_string):\n",
    "    \"\"\"Plot data for an organization along with deciles, medians, and change detection.\"\"\"\n",
    "    fig, ax = plt.subplots(figsize=(10, 6))\n",
    "    \n",
    "    # Plot percentiles\n",
    "    plot_percentiles(ax, deciles)\n",
    "    \n",
    "    # Plot organization data\n",
    "    df_subset = data[data[\"code\"] == org]\n",
    "    df_subset = df_subset.sort_values(by=\"month\")\n",
    "    ax.plot(df_subset[\"month\"], df_subset[\"rate\"], linewidth=2, color=\"red\", label=\"Organisation Rate\")\n",
    "    \n",
    "    ax.set_ylabel(format_label(y_string), size=14)\n",
    "    if percentage: \n",
    "        ax.yaxis.set_major_formatter(mtick.PercentFormatter(xmax=1.0)) #  if percentage then use percentage formatter\n",
    "    ax.spines['top'].set_visible(False)\n",
    "    ax.spines['right'].set_visible(False)\n",
    "    ax.grid(True)\n",
    "    ax.tick_params(labelsize=16)\n",
    "    ax.legend(fontsize=14)\n",
    "    ax.margins(x=0)\n",
    "    plt.tight_layout()\n",
    "    plt.show()\n",
    "    plt.close(fig)\n",
    "\n"
   ]
  },
  {
   "cell_type": "code",
   "execution_count": 3,
   "metadata": {},
   "outputs": [],
   "source": [
    "DEFAULT_CONFIG = {\n",
    "    'show_filter_results': False,\n",
    "    'apply_start_end_percentile_filter': True,\n",
    "    'start_percentile_threshold': 0.8,\n",
    "    'end_percentile_threshold': 0.4,\n",
    "    'apply_rate_decrease_filter': True,\n",
    "    'rate_decrease_percent': 10,\n",
    "    'apply_zero_filter': True,\n",
    "    'apply_mean_events_filter': True,\n",
    "    'mean_events_threshold': 50,\n",
    "    'top_x_orgs': None,\n",
    "}\n",
    "\n",
    "\n",
    "class DataFrameProcessor:\n",
    "    def __init__(self, df_main, config=None, verbose=False):\n",
    "        self.df_main = df_main.sort_values(by=\"month\")\n",
    "        self.config = {**DEFAULT_CONFIG, **(config or {})}\n",
    "        self.verbose = verbose\n",
    "\n",
    "    def _print_change_counts(self, description, before, after):\n",
    "        \"\"\"Print the number of items before and after a filter is applied.\"\"\"\n",
    "        if self.verbose:\n",
    "            print(f\"{description} - Before: {before}, After: {after}\\n---------\")\n",
    "\n",
    "    def _apply_filters(self):\n",
    "        \"\"\"Apply all filters based on the configuration.\"\"\"\n",
    "        filters = [\n",
    "            (\"apply_rate_decrease_filter\", self._filter_by_rate_decrease),\n",
    "            (\"apply_mean_events_filter\", self._filter_by_mean_events),\n",
    "            (\"apply_zero_filter\", self._filter_going_to_zero),\n",
    "            (\"apply_start_end_percentile_filter\", self._filter_by_start_end_percentile),\n",
    "        ]\n",
    "\n",
    "        filtered_df = self.df_main\n",
    "        for conf_key, filter_func in filters:\n",
    "            if self.config.get(conf_key):\n",
    "                initial_count = filtered_df['code'].nunique()\n",
    "                filtered_df = filter_func(filtered_df)\n",
    "                if filtered_df.empty:\n",
    "                    break\n",
    "                self._print_change_counts(conf_key, initial_count, filtered_df['code'].nunique())\n",
    "        \n",
    "        top_x = self.config.get('top_x_orgs')\n",
    "        if top_x:\n",
    "            filtered_df = self._select_top_x_by_percentile_drop(filtered_df, top_x)\n",
    "\n",
    "        self.df_main = filtered_df\n",
    "\n",
    "    def _filter_going_to_zero(self, df):\n",
    "        \"\"\"Filter out orgs whose rates go to zero in the last six months.\"\"\"\n",
    "        goes_to_zero = df.groupby('code')['rate'].transform(lambda x: x.iloc[-6:].mean() == 0)\n",
    "        return df[~goes_to_zero]\n",
    "\n",
    "    def _filter_by_mean_events(self, df):\n",
    "        \"\"\"Filter orgs by a minimum threshold of mean events.\"\"\"\n",
    "        threshold = self.config.get('mean_events_threshold', 20)\n",
    "        mean_events = df.groupby('code')['numerator'].transform('mean')\n",
    "        return df[mean_events > threshold]\n",
    "\n",
    "    def _filter_by_rate_decrease(self, df):\n",
    "        \"\"\"Filter orgs where the rate decreases by at least a certain percentage, handling division by zero.\"\"\"\n",
    "        decrease_percent = self.config.get(\"rate_decrease_percent\", 10) / 100\n",
    "\n",
    "        def calculate_rate_change(x):\n",
    "            start_mean = x.iloc[:6].mean()\n",
    "            end_mean = x.iloc[-6:].mean()\n",
    "            \n",
    "            if start_mean == 0:\n",
    "                return None\n",
    "            return (start_mean - end_mean) / start_mean\n",
    "\n",
    "        rate_change = df.groupby('code')['rate'].apply(calculate_rate_change)\n",
    "        valid_codes = rate_change.dropna()[rate_change >= decrease_percent].index\n",
    "        return df[df['code'].isin(valid_codes)]\n",
    "\n",
    "    def _filter_by_start_end_percentile(self, df):\n",
    "        \"\"\"Filter orgs that start in a high percentile and end in a low percentile.\"\"\"\n",
    "        start_threshold = self.config.get('start_percentile_threshold', 0.8)\n",
    "        end_threshold = self.config.get('end_percentile_threshold', 0.4)\n",
    "        \n",
    "        start_percentile = df.groupby('code').apply(lambda x: x['percentile'].iloc[:6].mean())\n",
    "        end_percentile = df.groupby('code').apply(lambda x: x['percentile'].iloc[-6:].mean())\n",
    "        valid_orgs = start_percentile[start_percentile > start_threshold].index.intersection(end_percentile[end_percentile < end_threshold].index)\n",
    "        return df[df['code'].isin(valid_orgs)]\n",
    "    \n",
    "    def _select_top_x_by_percentile_drop(self, df, top_x):\n",
    "        \"\"\"Selects the top x organizations based on the largest percentile drop.\"\"\"\n",
    "        \n",
    "        start_percentile = df.groupby('code')['percentile'].transform(lambda x: x.iloc[:6].mean())\n",
    "        end_percentile = df.groupby('code')['percentile'].transform(lambda x: x.iloc[-6:].mean())\n",
    "\n",
    "        df['percentile_drop'] = start_percentile - end_percentile\n",
    "        \n",
    "        top_x_codes = (df[['code', 'percentile_drop']]\n",
    "                       .drop_duplicates('code')\n",
    "                       .sort_values(by='percentile_drop', ascending=False)\n",
    "                       .head(top_x)['code'])\n",
    "\n",
    "        return df[df['code'].isin(top_x_codes)]\n",
    "\n",
    "    def apply_combined_filters(self):\n",
    "        self._apply_filters()\n",
    "        return self.df_main['code'].unique().tolist()"
   ]
  },
  {
   "cell_type": "code",
   "execution_count": 4,
   "metadata": {},
   "outputs": [],
   "source": [
    "config = {\n",
    "    'show_filter_results': False,\n",
    "    'apply_start_end_percentile_filter': True,\n",
    "    'start_percentile_threshold': 0.8,\n",
    "    'end_percentile_threshold': 0.5,\n",
    "    'apply_rate_decrease_filter': True,\n",
    "    'rate_decrease_percent': 5,\n",
    "    'apply_zero_filter': True,\n",
    "    'apply_mean_events_filter': True,\n",
    "    'mean_events_threshold': 50,\n",
    "    'top_x_orgs': 5,\n",
    "}"
   ]
  },
  {
   "cell_type": "code",
   "execution_count": 5,
   "metadata": {},
   "outputs": [],
   "source": [
    "#get latest measures list and refresh data\n",
    "res = requests.get('https://api.github.com/repos/ebmdatalab/openprescribing/contents/openprescribing/measures/definitions') #uses GitHub API to get list of all files listed in measure definitions - defaults to main branch\n",
    "data = res.text #creates text from API result\n",
    "df = pd.read_json(data) #turns JSON from API result into dataframe\n",
    "json_df = pd.DataFrame() #creates blank dataframe\n",
    "for row in df[df['name'].str.contains('.json')].itertuples(index=True): #iterates through rows, and continues if file is .json\n",
    "        url = (getattr(row, \"download_url\")) #gets URL from API request  \n",
    "        data = json.loads(requests.get(url).text) #gets JSON from measure definition URL\n",
    "        norm_df = pd.json_normalize(data, max_level=1) #normalises measure definition JSON into dataframe\n",
    "        json_df = pd.concat([json_df,norm_df], axis=0, ignore_index=True) # concatentates into single dataframe\n",
    "        json_df['table_id'] = 'ccg_data_' + df['name'].str.split('.').str[0].copy()\n",
    "tags_df = json_df.explode('tags') # explode json so each tag is on seperate line\n",
    "core_df = tags_df[['table_id', 'name', 'tags', 'radar_exclude', 'is_percentage','y_label']].copy() # create smaller df based on tags_df\n",
    "core_df['measure_name'] = core_df['table_id'].apply(lambda x: x.replace('ccg_data_', '')) # remove `ccg_data_` from measure_name for use in URL\n",
    "measure_list = core_df[((core_df['tags'].str.contains('core')) | (core_df['tags'].str.contains('lowpriority'))) & (core_df['radar_exclude'] != 'True')] #filter to only core measures where `radar_exclude` is not true\n",
    "measure_list.to_csv(DATA_FOLDER / 'measure_list.csv', index=False)  #save measure_list\n",
    "\n",
    "#create for next loop to go through each table name in the previous query\n",
    "get_date = True\n",
    "for name in measure_list['table_id']:\n",
    "    sql = \"\"\"\n",
    "    SELECT\n",
    "      month, \n",
    "      pct_id as code, \n",
    "      numerator, \n",
    "      denominator, \n",
    "    FROM\n",
    "      `ebmdatalab.measures.{}` AS a\n",
    "    \"\"\"\n",
    "    sql = sql.format(name) #using python string to add table_name to SQL\n",
    "    #concatenate each table name into single file during for next loop\n",
    "    measure_df = bq.cached_read(sql, os.path.join(DATA_FOLDER, \"{}\", \"bq_cache.csv\").format(name), use_cache=False, progress_bar_type=None)\n",
    "    if get_date:\n",
    "        latest_month = measure_df['month'].max()\n",
    "        first_month = measure_df['month'].min()\n",
    "        get_date = False\n",
    "\n",
    "    \n",
    "#delete any unused measure folders\n",
    "for folder in os.listdir(DATA_FOLDER):\n",
    "    if os.path.isdir(os.path.join(DATA_FOLDER, folder)):  # Check if it's a directory\n",
    "        if folder not in measure_list['table_id'].values:  # Check if folder is not in DataFrame\n",
    "            # Delete the folder and its contents\n",
    "            folder_path = os.path.join(DATA_FOLDER, folder)\n",
    "            shutil.rmtree(folder_path)"
   ]
  },
  {
   "cell_type": "code",
   "execution_count": 6,
   "metadata": {},
   "outputs": [],
   "source": [
    "#get SICBL names\n",
    "sql = \"\"\"\n",
    "    SELECT\n",
    "      code, \n",
    "      name \n",
    "    FROM\n",
    "      ebmdatalab.hscic.ccgs\n",
    "    WHERE\n",
    "      name IS NOT NULL\n",
    "    GROUP BY\n",
    "      code, \n",
    "      name     \n",
    "    \"\"\"\n",
    "ccg_names = bq.cached_read(sql, os.path.join(DATA_FOLDER, \"ccg_names.csv\"), use_cache=False, progress_bar_type=None)"
   ]
  },
  {
   "cell_type": "code",
   "execution_count": 7,
   "metadata": {
    "lines_to_next_cell": 2
   },
   "outputs": [],
   "source": [
    "tool_summary = \"\"\"# OpenPrescribing Improvement Radar\n",
    "\n",
    "## What this tool does\n",
    "\n",
    "This tool identifies sub-ICB locations (SICBLs) which have shown substantial improvement across each of our OpenPrescribing measures. The five SICBLs with the largest improvement are reported. We hope this will stimulate discussion with areas that have made effective changes so that successful strategies can be shared.\n",
    "\n",
    "## How it works\n",
    "\n",
    "The tool currently uses the following criteria to identify improvement:\n",
    "   \n",
    "* SICBLs needed to be, on average, in the highest 20% during the first 6 months of the time period shown.\n",
    "* SICBLs needed to improve to be, on average, in the lowest 50% of SICBLs during the last 6 months of the period shown.\n",
    "* The rate of the measure has to decrease by at least 5% across the time period shown (calculated as the difference between the average rate for the first 6 months and the last 6 months).\n",
    "* There needed to be, on average, at least 50 prescription items written.\n",
    "\n",
    "We are continuing to review how we might further optimise these criteria to detect even more interesting changes in future. For example, we may be able to introduce elements of a ‘trend indicator saturation’ methodology (which we have used in previous research). You can find more information on this [here](https://www.bmj.com/content/367/bmj.l5205), including a podcast on our work with Professor Ben Goldacre.\n",
    "\n",
    "## Interpretation notes\n",
    "    \n",
    "These pilot results are provided for the interest of advanced users, although we don't know how relevant they are in practice. There is substantial variation in prescribing behaviours, across various different areas of medicine. Some variation can be explained by demographic changes, or local policies or guidelines, but much of the remaining variation is less easy to explain.</details>\n",
    "\n",
    "We are keen to hear your feedback on this tool and how you use it. You can do this by emailing us at bennett@phc.ox.ac.uk. Please do not include patient identifiable information in your feedback.\n",
    "\n",
    "<b>This tool currently uses prescribing data between \"\"\" + first_month.strftime(\"%B %Y\") + \" and \" + latest_month.strftime(\"%B %Y\") +\".  We plan to update the tool every 3 months.</b>\""
   ]
  },
  {
   "cell_type": "code",
   "execution_count": 8,
   "metadata": {},
   "outputs": [
    {
     "data": {
      "text/markdown": [
       "# OpenPrescribing Improvement Radar\n",
       "\n",
       "## What this tool does\n",
       "\n",
       "This tool identifies sub-ICB locations (SICBLs) which have shown substantial improvement across each of our OpenPrescribing measures. The five SICBLs with the largest improvement are reported. We hope this will stimulate discussion with areas that have made effective changes so that successful strategies can be shared.\n",
       "\n",
       "## How it works\n",
       "\n",
       "The tool currently uses the following criteria to identify improvement:\n",
       "   \n",
       "* SICBLs needed to be, on average, in the highest 20% during the first 6 months of the time period shown.\n",
       "* SICBLs needed to improve to be, on average, in the lowest 50% of SICBLs during the last 6 months of the period shown.\n",
       "* The rate of the measure has to decrease by at least 5% across the time period shown (calculated as the difference between the average rate for the first 6 months and the last 6 months).\n",
       "* There needed to be, on average, at least 50 prescription items written.\n",
       "\n",
       "We are continuing to review how we might further optimise these criteria to detect even more interesting changes in future. For example, we may be able to introduce elements of a ‘trend indicator saturation’ methodology (which we have used in previous research). You can find more information on this [here](https://www.bmj.com/content/367/bmj.l5205), including a podcast on our work with Professor Ben Goldacre.\n",
       "\n",
       "## Interpretation notes\n",
       "    \n",
       "These pilot results are provided for the interest of advanced users, although we don't know how relevant they are in practice. There is substantial variation in prescribing behaviours, across various different areas of medicine. Some variation can be explained by demographic changes, or local policies or guidelines, but much of the remaining variation is less easy to explain.</details>\n",
       "\n",
       "We are keen to hear your feedback on this tool and how you use it. You can do this by emailing us at bennett@phc.ox.ac.uk. Please do not include patient identifiable information in your feedback.\n",
       "\n",
       "<b>This tool currently uses prescribing data between November 2018 and November 2023.  We plan to update the tool every 3 months.</b>"
      ],
      "text/plain": [
       "<IPython.core.display.Markdown object>"
      ]
     },
     "metadata": {},
     "output_type": "display_data"
    }
   ],
   "source": [
    "display(Markdown(tool_summary))"
   ]
  },
  {
   "cell_type": "code",
   "execution_count": 9,
   "metadata": {
    "lines_to_next_cell": 0
   },
   "outputs": [
    {
     "data": {
      "text/markdown": [
       "## Table of Contents"
      ],
      "text/plain": [
       "<IPython.core.display.Markdown object>"
      ]
     },
     "metadata": {},
     "output_type": "display_data"
    },
    {
     "data": {
      "text/markdown": [
       "<a href=#injectable_antibiotics>- Antibiotic stewardship: Injectable preparations for the treatment of infection</a>"
      ],
      "text/plain": [
       "<IPython.core.display.Markdown object>"
      ]
     },
     "metadata": {},
     "output_type": "display_data"
    },
    {
     "data": {
      "text/markdown": [
       "<a href=#ktt9_cephalosporins>- Antibiotic stewardship: co-amoxiclav, cephalosporins & quinolones (KTT9)</a>"
      ],
      "text/plain": [
       "<IPython.core.display.Markdown object>"
      ]
     },
     "metadata": {},
     "output_type": "display_data"
    },
    {
     "data": {
      "text/markdown": [
       "<a href=#ktt9_cephalosporins_star>- Antibiotic stewardship: co-amoxiclav, cephalosporins & quinolones (KTT9) prescribing volume</a>"
      ],
      "text/plain": [
       "<IPython.core.display.Markdown object>"
      ]
     },
     "metadata": {},
     "output_type": "display_data"
    },
    {
     "data": {
      "text/markdown": [
       "<a href=#amox_500_15_caps>- Antibiotic stewardship: courses for amoxicillin 500mg greater than 15 capsules</a>"
      ],
      "text/plain": [
       "<IPython.core.display.Markdown object>"
      ]
     },
     "metadata": {},
     "output_type": "display_data"
    },
    {
     "data": {
      "text/markdown": [
       "<a href=#doxy_100_6_qty>- Antibiotic stewardship: courses for doxycycline 100mg greater than 6 capsules/dispersible tablets</a>"
      ],
      "text/plain": [
       "<IPython.core.display.Markdown object>"
      ]
     },
     "metadata": {},
     "output_type": "display_data"
    },
    {
     "data": {
      "text/markdown": [
       "<a href=#uti_antibiotics_3_day>- Antibiotic stewardship: three-day courses for uncomplicated UTIs</a>"
      ],
      "text/plain": [
       "<IPython.core.display.Markdown object>"
      ]
     },
     "metadata": {},
     "output_type": "display_data"
    },
    {
     "data": {
      "text/markdown": [
       "<a href=#ktt9_antibiotics>- Antibiotic stewardship: volume of antibiotic prescribing (KTT9)</a>"
      ],
      "text/plain": [
       "<IPython.core.display.Markdown object>"
      ]
     },
     "metadata": {},
     "output_type": "display_data"
    },
    {
     "data": {
      "text/markdown": [
       "<a href=#bdzper1000>- Anxiolytics and Hypnotics: Average Daily Quantity per 1000 patients</a>"
      ],
      "text/plain": [
       "<IPython.core.display.Markdown object>"
      ]
     },
     "metadata": {},
     "output_type": "display_data"
    },
    {
     "data": {
      "text/markdown": [
       "<a href=#bdzadq>- Anxiolytics and Hypnotics: Average Daily Quantity per item</a>"
      ],
      "text/plain": [
       "<IPython.core.display.Markdown object>"
      ]
     },
     "metadata": {},
     "output_type": "display_data"
    },
    {
     "data": {
      "text/markdown": [
       "<a href=#other_lipid_modifying_drugs>- Bile acid sequestrants, fibrates, nicotinic acid, and omega 3 fatty acids</a>"
      ],
      "text/plain": [
       "<IPython.core.display.Markdown object>"
      ]
     },
     "metadata": {},
     "output_type": "display_data"
    },
    {
     "data": {
      "text/markdown": [
       "<a href=#nhse_lancets>- Blood glucose testing lancets not included in NHS England commissioning recommendations</a>"
      ],
      "text/plain": [
       "<IPython.core.display.Markdown object>"
      ]
     },
     "metadata": {},
     "output_type": "display_data"
    },
    {
     "data": {
      "text/markdown": [
       "<a href=#nhse_bgts>- Blood glucose testing strips not included in NHS England commissioning recommendations</a>"
      ],
      "text/plain": [
       "<IPython.core.display.Markdown object>"
      ]
     },
     "metadata": {},
     "output_type": "display_data"
    },
    {
     "data": {
      "text/markdown": [
       "<a href=#ciclosporin>- Ciclosporin and tacrolimus oral preparations prescribed generically</a>"
      ],
      "text/plain": [
       "<IPython.core.display.Markdown object>"
      ]
     },
     "metadata": {},
     "output_type": "display_data"
    },
    {
     "data": {
      "text/markdown": [
       "<a href=#coproxamol>- Co-proxamol</a>"
      ],
      "text/plain": [
       "<IPython.core.display.Markdown object>"
      ]
     },
     "metadata": {},
     "output_type": "display_data"
    },
    {
     "data": {
      "text/markdown": [
       "<a href=#cmpaperpt>- Cost of milk formulae for Cow's Milk Protein Allergy (CMPA) per listed patients aged 0-4</a>"
      ],
      "text/plain": [
       "<IPython.core.display.Markdown object>"
      ]
     },
     "metadata": {},
     "output_type": "display_data"
    },
    {
     "data": {
      "text/markdown": [
       "<a href=#diltiazem>- Diltiazem preparations (>60mg) prescribed generically</a>"
      ],
      "text/plain": [
       "<IPython.core.display.Markdown object>"
      ]
     },
     "metadata": {},
     "output_type": "display_data"
    },
    {
     "data": {
      "text/markdown": [
       "<a href=#carbon_salbutamol>- Environmental impact of inhalers - average carbon footprint per salbutamol inhaler</a>"
      ],
      "text/plain": [
       "<IPython.core.display.Markdown object>"
      ]
     },
     "metadata": {},
     "output_type": "display_data"
    },
    {
     "data": {
      "text/markdown": [
       "<a href=#environmental_inhalers>- Environmental impact of inhalers - prescribing of non-salbutamol Metered Dose Inhalers (MDIs)</a>"
      ],
      "text/plain": [
       "<IPython.core.display.Markdown object>"
      ]
     },
     "metadata": {},
     "output_type": "display_data"
    },
    {
     "data": {
      "text/markdown": [
       "<a href=#icsdose>- High dose inhaled corticosteroids</a>"
      ],
      "text/plain": [
       "<IPython.core.display.Markdown object>"
      ]
     },
     "metadata": {},
     "output_type": "display_data"
    },
    {
     "data": {
      "text/markdown": [
       "<a href=#opioidspercent>- High dose opioid items as percentage regular opioids</a>"
      ],
      "text/plain": [
       "<IPython.core.display.Markdown object>"
      ]
     },
     "metadata": {},
     "output_type": "display_data"
    },
    {
     "data": {
      "text/markdown": [
       "<a href=#opioidper1000>- High dose opioids per 1000 patients</a>"
      ],
      "text/plain": [
       "<IPython.core.display.Markdown object>"
      ]
     },
     "metadata": {},
     "output_type": "display_data"
    },
    {
     "data": {
      "text/markdown": [
       "<a href=#sildenafil>- High-cost drugs for erectile dysfunction</a>"
      ],
      "text/plain": [
       "<IPython.core.display.Markdown object>"
      ]
     },
     "metadata": {},
     "output_type": "display_data"
    },
    {
     "data": {
      "text/markdown": [
       "<a href=#ppidose>- Higher dose Proton Pump Inhibitors (PPIs)</a>"
      ],
      "text/plain": [
       "<IPython.core.display.Markdown object>"
      ]
     },
     "metadata": {},
     "output_type": "display_data"
    },
    {
     "data": {
      "text/markdown": [
       "<a href=#lpbathshoweremollients>- Items which should not routinely be prescribed in primary care  - bath and shower emollients</a>"
      ],
      "text/plain": [
       "<IPython.core.display.Markdown object>"
      ]
     },
     "metadata": {},
     "output_type": "display_data"
    },
    {
     "data": {
      "text/markdown": [
       "<a href=#lpaliskiren>- Items which should not routinely be prescribed in primary care - aliskiren</a>"
      ],
      "text/plain": [
       "<IPython.core.display.Markdown object>"
      ]
     },
     "metadata": {},
     "output_type": "display_data"
    },
    {
     "data": {
      "text/markdown": [
       "<a href=#lpzomnibus>- Items which should not routinely be prescribed in primary care - all items</a>"
      ],
      "text/plain": [
       "<IPython.core.display.Markdown object>"
      ]
     },
     "metadata": {},
     "output_type": "display_data"
    },
    {
     "data": {
      "text/markdown": [
       "<a href=#lpamiodarone>- Items which should not routinely be prescribed in primary care - amiodarone</a>"
      ],
      "text/plain": [
       "<IPython.core.display.Markdown object>"
      ]
     },
     "metadata": {},
     "output_type": "display_data"
    },
    {
     "data": {
      "text/markdown": [
       "<a href=#lpcoprox>- Items which should not routinely be prescribed in primary care - co-proxamol</a>"
      ],
      "text/plain": [
       "<IPython.core.display.Markdown object>"
      ]
     },
     "metadata": {},
     "output_type": "display_data"
    },
    {
     "data": {
      "text/markdown": [
       "<a href=#lpdosulepin>- Items which should not routinely be prescribed in primary care - dosulepin</a>"
      ],
      "text/plain": [
       "<IPython.core.display.Markdown object>"
      ]
     },
     "metadata": {},
     "output_type": "display_data"
    },
    {
     "data": {
      "text/markdown": [
       "<a href=#lpdoxazosin>- Items which should not routinely be prescribed in primary care - doxazosin modified release</a>"
      ],
      "text/plain": [
       "<IPython.core.display.Markdown object>"
      ]
     },
     "metadata": {},
     "output_type": "display_data"
    },
    {
     "data": {
      "text/markdown": [
       "<a href=#lpdronedarone>- Items which should not routinely be prescribed in primary care - dronedarone</a>"
      ],
      "text/plain": [
       "<IPython.core.display.Markdown object>"
      ]
     },
     "metadata": {},
     "output_type": "display_data"
    },
    {
     "data": {
      "text/markdown": [
       "<a href=#lpglucosamine>- Items which should not routinely be prescribed in primary care - glucosamine and chondroitin</a>"
      ],
      "text/plain": [
       "<IPython.core.display.Markdown object>"
      ]
     },
     "metadata": {},
     "output_type": "display_data"
    },
    {
     "data": {
      "text/markdown": [
       "<a href=#lpherbal>- Items which should not routinely be prescribed in primary care - herbal medicines</a>"
      ],
      "text/plain": [
       "<IPython.core.display.Markdown object>"
      ]
     },
     "metadata": {},
     "output_type": "display_data"
    },
    {
     "data": {
      "text/markdown": [
       "<a href=#lphomeopathy>- Items which should not routinely be prescribed in primary care - homeopathy</a>"
      ],
      "text/plain": [
       "<IPython.core.display.Markdown object>"
      ]
     },
     "metadata": {},
     "output_type": "display_data"
    },
    {
     "data": {
      "text/markdown": [
       "<a href=#lpfentanylir>- Items which should not routinely be prescribed in primary care - immediate release fentanyl</a>"
      ],
      "text/plain": [
       "<IPython.core.display.Markdown object>"
      ]
     },
     "metadata": {},
     "output_type": "display_data"
    },
    {
     "data": {
      "text/markdown": [
       "<a href=#lpneedles>- Items which should not routinely be prescribed in primary care - insulin pen needles costing ≥£5 per 100 needles</a>"
      ],
      "text/plain": [
       "<IPython.core.display.Markdown object>"
      ]
     },
     "metadata": {},
     "output_type": "display_data"
    },
    {
     "data": {
      "text/markdown": [
       "<a href=#lplidocaine>- Items which should not routinely be prescribed in primary care - lidocaine plasters</a>"
      ],
      "text/plain": [
       "<IPython.core.display.Markdown object>"
      ]
     },
     "metadata": {},
     "output_type": "display_data"
    },
    {
     "data": {
      "text/markdown": [
       "<a href=#lpliothyronine>- Items which should not routinely be prescribed in primary care - liothyronine (including Armour Thyroid and liothyronine combination products)</a>"
      ],
      "text/plain": [
       "<IPython.core.display.Markdown object>"
      ]
     },
     "metadata": {},
     "output_type": "display_data"
    },
    {
     "data": {
      "text/markdown": [
       "<a href=#lplutein>- Items which should not routinely be prescribed in primary care - lutein and antioxidants</a>"
      ],
      "text/plain": [
       "<IPython.core.display.Markdown object>"
      ]
     },
     "metadata": {},
     "output_type": "display_data"
    },
    {
     "data": {
      "text/markdown": [
       "<a href=#lpminocycline>- Items which should not routinely be prescribed in primary care - minocycline</a>"
      ],
      "text/plain": [
       "<IPython.core.display.Markdown object>"
      ]
     },
     "metadata": {},
     "output_type": "display_data"
    },
    {
     "data": {
      "text/markdown": [
       "<a href=#lpomega3>- Items which should not routinely be prescribed in primary care - omega-3 fatty acid compounds (excluding icosapent ethyl [Vazkepa®])</a>"
      ],
      "text/plain": [
       "<IPython.core.display.Markdown object>"
      ]
     },
     "metadata": {},
     "output_type": "display_data"
    },
    {
     "data": {
      "text/markdown": [
       "<a href=#lpoxycodone>- Items which should not routinely be prescribed in primary care - oxycodone and naloxone combination product</a>"
      ],
      "text/plain": [
       "<IPython.core.display.Markdown object>"
      ]
     },
     "metadata": {},
     "output_type": "display_data"
    },
    {
     "data": {
      "text/markdown": [
       "<a href=#lptramadolpara>- Items which should not routinely be prescribed in primary care - paracetamol and tramadol combination</a>"
      ],
      "text/plain": [
       "<IPython.core.display.Markdown object>"
      ]
     },
     "metadata": {},
     "output_type": "display_data"
    },
    {
     "data": {
      "text/markdown": [
       "<a href=#lpperindopril>- Items which should not routinely be prescribed in primary care - perindopril arginine</a>"
      ],
      "text/plain": [
       "<IPython.core.display.Markdown object>"
      ]
     },
     "metadata": {},
     "output_type": "display_data"
    },
    {
     "data": {
      "text/markdown": [
       "<a href=#lprubefacients>- Items which should not routinely be prescribed in primary care - rubefacients, benzydamine, mucopolysaccharide and cooling products</a>"
      ],
      "text/plain": [
       "<IPython.core.display.Markdown object>"
      ]
     },
     "metadata": {},
     "output_type": "display_data"
    },
    {
     "data": {
      "text/markdown": [
       "<a href=#lpsilkgarments>- Items which should not routinely be prescribed in primary care - silk garments</a>"
      ],
      "text/plain": [
       "<IPython.core.display.Markdown object>"
      ]
     },
     "metadata": {},
     "output_type": "display_data"
    },
    {
     "data": {
      "text/markdown": [
       "<a href=#lptravelvacs>- Items which should not routinely be prescribed in primary care - travel vaccines</a>"
      ],
      "text/plain": [
       "<IPython.core.display.Markdown object>"
      ]
     },
     "metadata": {},
     "output_type": "display_data"
    },
    {
     "data": {
      "text/markdown": [
       "<a href=#lptrimipramine>- Items which should not routinely be prescribed in primary care - trimipramine</a>"
      ],
      "text/plain": [
       "<IPython.core.display.Markdown object>"
      ]
     },
     "metadata": {},
     "output_type": "display_data"
    },
    {
     "data": {
      "text/markdown": [
       "<a href=#statinintensity>- Low and medium intensity statins</a>"
      ],
      "text/plain": [
       "<IPython.core.display.Markdown object>"
      ]
     },
     "metadata": {},
     "output_type": "display_data"
    },
    {
     "data": {
      "text/markdown": [
       "<a href=#methotrexate>- Methotrexate 10 mg tablets </a>"
      ],
      "text/plain": [
       "<IPython.core.display.Markdown object>"
      ]
     },
     "metadata": {},
     "output_type": "display_data"
    },
    {
     "data": {
      "text/markdown": [
       "<a href=#ktt13_nsaids_ibuprofen>- Non-preferred NSAIDs and COX-2 inhibitors</a>"
      ],
      "text/plain": [
       "<IPython.core.display.Markdown object>"
      ]
     },
     "metadata": {},
     "output_type": "display_data"
    },
    {
     "data": {
      "text/markdown": [
       "<a href=#semagglutidequantity>- Possible excess quantities of semaglutide</a>"
      ],
      "text/plain": [
       "<IPython.core.display.Markdown object>"
      ]
     },
     "metadata": {},
     "output_type": "display_data"
    },
    {
     "data": {
      "text/markdown": [
       "<a href=#aafpercent>- Prescribing of Amino Acid Formula (AAF) and Extensively Hydrolysed Formula (EHF))</a>"
      ],
      "text/plain": [
       "<IPython.core.display.Markdown object>"
      ]
     },
     "metadata": {},
     "output_type": "display_data"
    },
    {
     "data": {
      "text/markdown": [
       "<a href=#cgm_sensors>- Prescribing of continuous glucose monitoring sensors</a>"
      ],
      "text/plain": [
       "<IPython.core.display.Markdown object>"
      ]
     },
     "metadata": {},
     "output_type": "display_data"
    },
    {
     "data": {
      "text/markdown": [
       "<a href=#dipyridamole>- Prescribing of dipyridamole</a>"
      ],
      "text/plain": [
       "<IPython.core.display.Markdown object>"
      ]
     },
     "metadata": {},
     "output_type": "display_data"
    },
    {
     "data": {
      "text/markdown": [
       "<a href=#gabapentinoidsddd>- Prescribing of gabapentin and pregabalin (DDD)</a>"
      ],
      "text/plain": [
       "<IPython.core.display.Markdown object>"
      ]
     },
     "metadata": {},
     "output_type": "display_data"
    },
    {
     "data": {
      "text/markdown": [
       "<a href=#glutenfree>- Prescribing of gluten free products</a>"
      ],
      "text/plain": [
       "<IPython.core.display.Markdown object>"
      ]
     },
     "metadata": {},
     "output_type": "display_data"
    },
    {
     "data": {
      "text/markdown": [
       "<a href=#ktt12_diabetes_insulin>- Prescribing of long-acting insulin analogues</a>"
      ],
      "text/plain": [
       "<IPython.core.display.Markdown object>"
      ]
     },
     "metadata": {},
     "output_type": "display_data"
    },
    {
     "data": {
      "text/markdown": [
       "<a href=#opioidome>- Prescribing of opioids (total oral morphine equivalence)</a>"
      ],
      "text/plain": [
       "<IPython.core.display.Markdown object>"
      ]
     },
     "metadata": {},
     "output_type": "display_data"
    },
    {
     "data": {
      "text/markdown": [
       "<a href=#pregabalinmg>- Prescribing of pregabalin (total mg)</a>"
      ],
      "text/plain": [
       "<IPython.core.display.Markdown object>"
      ]
     },
     "metadata": {},
     "output_type": "display_data"
    },
    {
     "data": {
      "text/markdown": [
       "<a href=#probiotics>- Probiotics that have been removed from the drug tariff</a>"
      ],
      "text/plain": [
       "<IPython.core.display.Markdown object>"
      ]
     },
     "metadata": {},
     "output_type": "display_data"
    },
    {
     "data": {
      "text/markdown": [
       "<a href=#edoxaban>- Proportion of Direct Acting Oral Anticoagulants (DOACs) not prescribed as edoxaban or generic apixaban</a>"
      ],
      "text/plain": [
       "<IPython.core.display.Markdown object>"
      ]
     },
     "metadata": {},
     "output_type": "display_data"
    },
    {
     "data": {
      "text/markdown": [
       "<a href=#seven_day_prescribing>- Seven Day Prescribing for Long Term Conditions</a>"
      ],
      "text/plain": [
       "<IPython.core.display.Markdown object>"
      ]
     },
     "metadata": {},
     "output_type": "display_data"
    },
    {
     "data": {
      "text/markdown": [
       "<a href=#saba>- Short acting beta agonist inhalers</a>"
      ],
      "text/plain": [
       "<IPython.core.display.Markdown object>"
      ]
     },
     "metadata": {},
     "output_type": "display_data"
    },
    {
     "data": {
      "text/markdown": [
       "<a href=#silver>- Silver dressings</a>"
      ],
      "text/plain": [
       "<IPython.core.display.Markdown object>"
      ]
     },
     "metadata": {},
     "output_type": "display_data"
    },
    {
     "data": {
      "text/markdown": [
       "<a href=#solublepara>- Soluble/effervescent forms of paracetamol and co-codamol</a>"
      ],
      "text/plain": [
       "<IPython.core.display.Markdown object>"
      ]
     },
     "metadata": {},
     "output_type": "display_data"
    },
    {
     "data": {
      "text/markdown": [
       "<a href=#toothpaste>- Toothpaste Prescribing</a>"
      ],
      "text/plain": [
       "<IPython.core.display.Markdown object>"
      ]
     },
     "metadata": {},
     "output_type": "display_data"
    },
    {
     "data": {
      "text/markdown": [
       "<a href=#fungal>- Topical treatment of fungal nail infections</a>"
      ],
      "text/plain": [
       "<IPython.core.display.Markdown object>"
      ]
     },
     "metadata": {},
     "output_type": "display_data"
    },
    {
     "data": {
      "text/markdown": [
       "<a href=#vitbper1000>- Vitamin B complex per 1000 patients</a>"
      ],
      "text/plain": [
       "<IPython.core.display.Markdown object>"
      ]
     },
     "metadata": {},
     "output_type": "display_data"
    },
    {
     "data": {
      "text/markdown": [
       "<h2 id=injectable_antibiotics><a href=https://openprescribing.net/measure/injectable_antibiotics>Antibiotic stewardship: Injectable preparations for the treatment of infection</a></h2>"
      ],
      "text/plain": [
       "<IPython.core.display.Markdown object>"
      ]
     },
     "metadata": {},
     "output_type": "display_data"
    },
    {
     "data": {
      "text/markdown": [
       "No organisations met the technical criteria for detecting substantial change on this measure."
      ],
      "text/plain": [
       "<IPython.core.display.Markdown object>"
      ]
     },
     "metadata": {},
     "output_type": "display_data"
    },
    {
     "data": {
      "text/markdown": [
       "<h2 id=ktt9_cephalosporins><a href=https://openprescribing.net/measure/ktt9_cephalosporins>Antibiotic stewardship: co-amoxiclav, cephalosporins & quinolones (KTT9)</a></h2>"
      ],
      "text/plain": [
       "<IPython.core.display.Markdown object>"
      ]
     },
     "metadata": {},
     "output_type": "display_data"
    },
    {
     "data": {
      "text/markdown": [
       "No organisations met the technical criteria for detecting substantial change on this measure."
      ],
      "text/plain": [
       "<IPython.core.display.Markdown object>"
      ]
     },
     "metadata": {},
     "output_type": "display_data"
    },
    {
     "data": {
      "text/markdown": [
       "<h2 id=ktt9_cephalosporins_star><a href=https://openprescribing.net/measure/ktt9_cephalosporins_star>Antibiotic stewardship: co-amoxiclav, cephalosporins & quinolones (KTT9) prescribing volume</a></h2>"
      ],
      "text/plain": [
       "<IPython.core.display.Markdown object>"
      ]
     },
     "metadata": {},
     "output_type": "display_data"
    },
    {
     "data": {
      "text/markdown": [
       "<h4><a href=https://openprescribing.net/measure/ktt9_cephalosporins_star/sicbl/00P>NHS SUNDERLAND</a></h4>"
      ],
      "text/plain": [
       "<IPython.core.display.Markdown object>"
      ]
     },
     "metadata": {},
     "output_type": "display_data"
    },
    {
     "ename": "ValueError",
     "evalue": "Multi-dimensional indexing (e.g. `obj[:, None]`) is no longer supported. Convert to a numpy array before indexing instead.",
     "output_type": "error",
     "traceback": [
      "\u001b[0;31m---------------------------------------------------------------------------\u001b[0m",
      "\u001b[0;31mValueError\u001b[0m                                Traceback (most recent call last)",
      "\u001b[0;32m<ipython-input-9-b9b787741f93>\u001b[0m in \u001b[0;36m<module>\u001b[0;34m\u001b[0m\n\u001b[1;32m     40\u001b[0m                 \u001b[0mccg_name\u001b[0m \u001b[0;34m=\u001b[0m \u001b[0mccg_names\u001b[0m\u001b[0;34m.\u001b[0m\u001b[0mloc\u001b[0m\u001b[0;34m[\u001b[0m\u001b[0mccg_names\u001b[0m\u001b[0;34m[\u001b[0m\u001b[0;34m\"code\"\u001b[0m\u001b[0;34m]\u001b[0m\u001b[0;34m==\u001b[0m\u001b[0mccg\u001b[0m\u001b[0;34m,\u001b[0m \u001b[0;34m\"name\"\u001b[0m\u001b[0;34m]\u001b[0m\u001b[0;34m.\u001b[0m\u001b[0mvalues\u001b[0m\u001b[0;34m[\u001b[0m\u001b[0;36m0\u001b[0m\u001b[0;34m]\u001b[0m\u001b[0;34m\u001b[0m\u001b[0;34m\u001b[0m\u001b[0m\n\u001b[1;32m     41\u001b[0m                 \u001b[0mdisplay\u001b[0m\u001b[0;34m(\u001b[0m\u001b[0mMarkdown\u001b[0m\u001b[0;34m(\u001b[0m\u001b[0;34mf'<h4><a href={sicbl_link}>{ccg_name}</a></h4>'\u001b[0m\u001b[0;34m)\u001b[0m\u001b[0;34m)\u001b[0m\u001b[0;34m\u001b[0m\u001b[0;34m\u001b[0m\u001b[0m\n\u001b[0;32m---> 42\u001b[0;31m                 \u001b[0mfig\u001b[0m \u001b[0;34m=\u001b[0m \u001b[0mplot_org_data\u001b[0m\u001b[0;34m(\u001b[0m\u001b[0mccg\u001b[0m\u001b[0;34m,\u001b[0m \u001b[0mdata\u001b[0m\u001b[0;34m,\u001b[0m \u001b[0mdeciles\u001b[0m\u001b[0;34m,\u001b[0m \u001b[0mpercentage\u001b[0m\u001b[0;34m,\u001b[0m \u001b[0my_string\u001b[0m\u001b[0;34m)\u001b[0m\u001b[0;34m\u001b[0m\u001b[0;34m\u001b[0m\u001b[0m\n\u001b[0m\u001b[1;32m     43\u001b[0m \u001b[0;34m\u001b[0m\u001b[0m\n\u001b[1;32m     44\u001b[0m \u001b[0;34m\u001b[0m\u001b[0m\n",
      "\u001b[0;32m<ipython-input-2-c74b5f62336b>\u001b[0m in \u001b[0;36mplot_org_data\u001b[0;34m(org, data, deciles, percentage, y_string)\u001b[0m\n\u001b[1;32m    107\u001b[0m \u001b[0;34m\u001b[0m\u001b[0m\n\u001b[1;32m    108\u001b[0m     \u001b[0;31m# Plot percentiles\u001b[0m\u001b[0;34m\u001b[0m\u001b[0;34m\u001b[0m\u001b[0;34m\u001b[0m\u001b[0m\n\u001b[0;32m--> 109\u001b[0;31m     \u001b[0mplot_percentiles\u001b[0m\u001b[0;34m(\u001b[0m\u001b[0max\u001b[0m\u001b[0;34m,\u001b[0m \u001b[0mdeciles\u001b[0m\u001b[0;34m)\u001b[0m\u001b[0;34m\u001b[0m\u001b[0;34m\u001b[0m\u001b[0m\n\u001b[0m\u001b[1;32m    110\u001b[0m \u001b[0;34m\u001b[0m\u001b[0m\n\u001b[1;32m    111\u001b[0m     \u001b[0;31m# Plot organization data\u001b[0m\u001b[0;34m\u001b[0m\u001b[0;34m\u001b[0m\u001b[0;34m\u001b[0m\u001b[0m\n",
      "\u001b[0;32m<ipython-input-2-c74b5f62336b>\u001b[0m in \u001b[0;36mplot_percentiles\u001b[0;34m(ax, deciles_lidocaine)\u001b[0m\n\u001b[1;32m     83\u001b[0m         \u001b[0;32mif\u001b[0m \u001b[0;34m\"decile\"\u001b[0m \u001b[0;32mnot\u001b[0m \u001b[0;32min\u001b[0m \u001b[0mlabel_seen\u001b[0m \u001b[0;32mand\u001b[0m \u001b[0mpercentile\u001b[0m \u001b[0;34m!=\u001b[0m \u001b[0;36m50\u001b[0m\u001b[0;34m:\u001b[0m\u001b[0;34m\u001b[0m\u001b[0;34m\u001b[0m\u001b[0m\n\u001b[1;32m     84\u001b[0m             \u001b[0mlabel_seen\u001b[0m\u001b[0;34m.\u001b[0m\u001b[0mappend\u001b[0m\u001b[0;34m(\u001b[0m\u001b[0;34m\"decile\"\u001b[0m\u001b[0;34m)\u001b[0m\u001b[0;34m\u001b[0m\u001b[0;34m\u001b[0m\u001b[0m\n\u001b[0;32m---> 85\u001b[0;31m         \u001b[0max\u001b[0m\u001b[0;34m.\u001b[0m\u001b[0mplot\u001b[0m\u001b[0;34m(\u001b[0m\u001b[0mdata\u001b[0m\u001b[0;34m[\u001b[0m\u001b[0;34m\"month\"\u001b[0m\u001b[0;34m]\u001b[0m\u001b[0;34m,\u001b[0m \u001b[0mdata\u001b[0m\u001b[0;34m[\u001b[0m\u001b[0;34m\"rate\"\u001b[0m\u001b[0;34m]\u001b[0m\u001b[0;34m,\u001b[0m \u001b[0mstyle\u001b[0m\u001b[0;34m[\u001b[0m\u001b[0;34m\"line\"\u001b[0m\u001b[0;34m]\u001b[0m\u001b[0;34m,\u001b[0m \u001b[0mlinewidth\u001b[0m\u001b[0;34m=\u001b[0m\u001b[0mstyle\u001b[0m\u001b[0;34m[\u001b[0m\u001b[0;34m\"linewidth\"\u001b[0m\u001b[0;34m]\u001b[0m\u001b[0;34m,\u001b[0m \u001b[0mlabel\u001b[0m\u001b[0;34m=\u001b[0m\u001b[0mlabel\u001b[0m\u001b[0;34m)\u001b[0m\u001b[0;34m\u001b[0m\u001b[0;34m\u001b[0m\u001b[0m\n\u001b[0m\u001b[1;32m     86\u001b[0m \u001b[0;34m\u001b[0m\u001b[0m\n\u001b[1;32m     87\u001b[0m \u001b[0;32mdef\u001b[0m \u001b[0mformat_label\u001b[0m\u001b[0;34m(\u001b[0m\u001b[0mlabel\u001b[0m\u001b[0;34m)\u001b[0m\u001b[0;34m:\u001b[0m\u001b[0;34m\u001b[0m\u001b[0;34m\u001b[0m\u001b[0m\n",
      "\u001b[0;32m~/.pyenv/versions/3.8.1/lib/python3.8/site-packages/matplotlib/axes/_axes.py\u001b[0m in \u001b[0;36mplot\u001b[0;34m(self, scalex, scaley, data, *args, **kwargs)\u001b[0m\n\u001b[1;32m   1663\u001b[0m         \"\"\"\n\u001b[1;32m   1664\u001b[0m         \u001b[0mkwargs\u001b[0m \u001b[0;34m=\u001b[0m \u001b[0mcbook\u001b[0m\u001b[0;34m.\u001b[0m\u001b[0mnormalize_kwargs\u001b[0m\u001b[0;34m(\u001b[0m\u001b[0mkwargs\u001b[0m\u001b[0;34m,\u001b[0m \u001b[0mmlines\u001b[0m\u001b[0;34m.\u001b[0m\u001b[0mLine2D\u001b[0m\u001b[0;34m.\u001b[0m\u001b[0m_alias_map\u001b[0m\u001b[0;34m)\u001b[0m\u001b[0;34m\u001b[0m\u001b[0;34m\u001b[0m\u001b[0m\n\u001b[0;32m-> 1665\u001b[0;31m         \u001b[0mlines\u001b[0m \u001b[0;34m=\u001b[0m \u001b[0;34m[\u001b[0m\u001b[0;34m*\u001b[0m\u001b[0mself\u001b[0m\u001b[0;34m.\u001b[0m\u001b[0m_get_lines\u001b[0m\u001b[0;34m(\u001b[0m\u001b[0;34m*\u001b[0m\u001b[0margs\u001b[0m\u001b[0;34m,\u001b[0m \u001b[0mdata\u001b[0m\u001b[0;34m=\u001b[0m\u001b[0mdata\u001b[0m\u001b[0;34m,\u001b[0m \u001b[0;34m**\u001b[0m\u001b[0mkwargs\u001b[0m\u001b[0;34m)\u001b[0m\u001b[0;34m]\u001b[0m\u001b[0;34m\u001b[0m\u001b[0;34m\u001b[0m\u001b[0m\n\u001b[0m\u001b[1;32m   1666\u001b[0m         \u001b[0;32mfor\u001b[0m \u001b[0mline\u001b[0m \u001b[0;32min\u001b[0m \u001b[0mlines\u001b[0m\u001b[0;34m:\u001b[0m\u001b[0;34m\u001b[0m\u001b[0;34m\u001b[0m\u001b[0m\n\u001b[1;32m   1667\u001b[0m             \u001b[0mself\u001b[0m\u001b[0;34m.\u001b[0m\u001b[0madd_line\u001b[0m\u001b[0;34m(\u001b[0m\u001b[0mline\u001b[0m\u001b[0;34m)\u001b[0m\u001b[0;34m\u001b[0m\u001b[0;34m\u001b[0m\u001b[0m\n",
      "\u001b[0;32m~/.pyenv/versions/3.8.1/lib/python3.8/site-packages/matplotlib/axes/_base.py\u001b[0m in \u001b[0;36m__call__\u001b[0;34m(self, *args, **kwargs)\u001b[0m\n\u001b[1;32m    223\u001b[0m                 \u001b[0mthis\u001b[0m \u001b[0;34m+=\u001b[0m \u001b[0margs\u001b[0m\u001b[0;34m[\u001b[0m\u001b[0;36m0\u001b[0m\u001b[0;34m]\u001b[0m\u001b[0;34m,\u001b[0m\u001b[0;34m\u001b[0m\u001b[0;34m\u001b[0m\u001b[0m\n\u001b[1;32m    224\u001b[0m                 \u001b[0margs\u001b[0m \u001b[0;34m=\u001b[0m \u001b[0margs\u001b[0m\u001b[0;34m[\u001b[0m\u001b[0;36m1\u001b[0m\u001b[0;34m:\u001b[0m\u001b[0;34m]\u001b[0m\u001b[0;34m\u001b[0m\u001b[0;34m\u001b[0m\u001b[0m\n\u001b[0;32m--> 225\u001b[0;31m             \u001b[0;32myield\u001b[0m \u001b[0;32mfrom\u001b[0m \u001b[0mself\u001b[0m\u001b[0;34m.\u001b[0m\u001b[0m_plot_args\u001b[0m\u001b[0;34m(\u001b[0m\u001b[0mthis\u001b[0m\u001b[0;34m,\u001b[0m \u001b[0mkwargs\u001b[0m\u001b[0;34m)\u001b[0m\u001b[0;34m\u001b[0m\u001b[0;34m\u001b[0m\u001b[0m\n\u001b[0m\u001b[1;32m    226\u001b[0m \u001b[0;34m\u001b[0m\u001b[0m\n\u001b[1;32m    227\u001b[0m     \u001b[0;32mdef\u001b[0m \u001b[0mget_next_color\u001b[0m\u001b[0;34m(\u001b[0m\u001b[0mself\u001b[0m\u001b[0;34m)\u001b[0m\u001b[0;34m:\u001b[0m\u001b[0;34m\u001b[0m\u001b[0;34m\u001b[0m\u001b[0m\n",
      "\u001b[0;32m~/.pyenv/versions/3.8.1/lib/python3.8/site-packages/matplotlib/axes/_base.py\u001b[0m in \u001b[0;36m_plot_args\u001b[0;34m(self, tup, kwargs)\u001b[0m\n\u001b[1;32m    384\u001b[0m \u001b[0;34m\u001b[0m\u001b[0m\n\u001b[1;32m    385\u001b[0m         \u001b[0;32mif\u001b[0m \u001b[0mlen\u001b[0m\u001b[0;34m(\u001b[0m\u001b[0mtup\u001b[0m\u001b[0;34m)\u001b[0m \u001b[0;34m==\u001b[0m \u001b[0;36m2\u001b[0m\u001b[0;34m:\u001b[0m\u001b[0;34m\u001b[0m\u001b[0;34m\u001b[0m\u001b[0m\n\u001b[0;32m--> 386\u001b[0;31m             \u001b[0mx\u001b[0m \u001b[0;34m=\u001b[0m \u001b[0m_check_1d\u001b[0m\u001b[0;34m(\u001b[0m\u001b[0mtup\u001b[0m\u001b[0;34m[\u001b[0m\u001b[0;36m0\u001b[0m\u001b[0;34m]\u001b[0m\u001b[0;34m)\u001b[0m\u001b[0;34m\u001b[0m\u001b[0;34m\u001b[0m\u001b[0m\n\u001b[0m\u001b[1;32m    387\u001b[0m             \u001b[0my\u001b[0m \u001b[0;34m=\u001b[0m \u001b[0m_check_1d\u001b[0m\u001b[0;34m(\u001b[0m\u001b[0mtup\u001b[0m\u001b[0;34m[\u001b[0m\u001b[0;34m-\u001b[0m\u001b[0;36m1\u001b[0m\u001b[0;34m]\u001b[0m\u001b[0;34m)\u001b[0m\u001b[0;34m\u001b[0m\u001b[0;34m\u001b[0m\u001b[0m\n\u001b[1;32m    388\u001b[0m         \u001b[0;32melse\u001b[0m\u001b[0;34m:\u001b[0m\u001b[0;34m\u001b[0m\u001b[0;34m\u001b[0m\u001b[0m\n",
      "\u001b[0;32m~/.pyenv/versions/3.8.1/lib/python3.8/site-packages/matplotlib/cbook/__init__.py\u001b[0m in \u001b[0;36m_check_1d\u001b[0;34m(x)\u001b[0m\n\u001b[1;32m   1420\u001b[0m                     message='Support for multi-dimensional indexing')\n\u001b[1;32m   1421\u001b[0m \u001b[0;34m\u001b[0m\u001b[0m\n\u001b[0;32m-> 1422\u001b[0;31m                 \u001b[0mndim\u001b[0m \u001b[0;34m=\u001b[0m \u001b[0mx\u001b[0m\u001b[0;34m[\u001b[0m\u001b[0;34m:\u001b[0m\u001b[0;34m,\u001b[0m \u001b[0;32mNone\u001b[0m\u001b[0;34m]\u001b[0m\u001b[0;34m.\u001b[0m\u001b[0mndim\u001b[0m\u001b[0;34m\u001b[0m\u001b[0;34m\u001b[0m\u001b[0m\n\u001b[0m\u001b[1;32m   1423\u001b[0m                 \u001b[0;31m# we have definitely hit a pandas index or series object\u001b[0m\u001b[0;34m\u001b[0m\u001b[0;34m\u001b[0m\u001b[0;34m\u001b[0m\u001b[0m\n\u001b[1;32m   1424\u001b[0m                 \u001b[0;31m# cast to a numpy array.\u001b[0m\u001b[0;34m\u001b[0m\u001b[0;34m\u001b[0m\u001b[0;34m\u001b[0m\u001b[0m\n",
      "\u001b[0;32m~/.pyenv/versions/3.8.1/lib/python3.8/site-packages/pandas/core/series.py\u001b[0m in \u001b[0;36m__getitem__\u001b[0;34m(self, key)\u001b[0m\n\u001b[1;32m   1031\u001b[0m             \u001b[0;32mreturn\u001b[0m \u001b[0mself\u001b[0m\u001b[0;34m.\u001b[0m\u001b[0m_get_values\u001b[0m\u001b[0;34m(\u001b[0m\u001b[0mkey\u001b[0m\u001b[0;34m)\u001b[0m\u001b[0;34m\u001b[0m\u001b[0;34m\u001b[0m\u001b[0m\n\u001b[1;32m   1032\u001b[0m \u001b[0;34m\u001b[0m\u001b[0m\n\u001b[0;32m-> 1033\u001b[0;31m         \u001b[0;32mreturn\u001b[0m \u001b[0mself\u001b[0m\u001b[0;34m.\u001b[0m\u001b[0m_get_with\u001b[0m\u001b[0;34m(\u001b[0m\u001b[0mkey\u001b[0m\u001b[0;34m)\u001b[0m\u001b[0;34m\u001b[0m\u001b[0;34m\u001b[0m\u001b[0m\n\u001b[0m\u001b[1;32m   1034\u001b[0m \u001b[0;34m\u001b[0m\u001b[0m\n\u001b[1;32m   1035\u001b[0m     \u001b[0;32mdef\u001b[0m \u001b[0m_get_with\u001b[0m\u001b[0;34m(\u001b[0m\u001b[0mself\u001b[0m\u001b[0;34m,\u001b[0m \u001b[0mkey\u001b[0m\u001b[0;34m)\u001b[0m\u001b[0;34m:\u001b[0m\u001b[0;34m\u001b[0m\u001b[0;34m\u001b[0m\u001b[0m\n",
      "\u001b[0;32m~/.pyenv/versions/3.8.1/lib/python3.8/site-packages/pandas/core/series.py\u001b[0m in \u001b[0;36m_get_with\u001b[0;34m(self, key)\u001b[0m\n\u001b[1;32m   1046\u001b[0m             )\n\u001b[1;32m   1047\u001b[0m         \u001b[0;32melif\u001b[0m \u001b[0misinstance\u001b[0m\u001b[0;34m(\u001b[0m\u001b[0mkey\u001b[0m\u001b[0;34m,\u001b[0m \u001b[0mtuple\u001b[0m\u001b[0;34m)\u001b[0m\u001b[0;34m:\u001b[0m\u001b[0;34m\u001b[0m\u001b[0;34m\u001b[0m\u001b[0m\n\u001b[0;32m-> 1048\u001b[0;31m             \u001b[0;32mreturn\u001b[0m \u001b[0mself\u001b[0m\u001b[0;34m.\u001b[0m\u001b[0m_get_values_tuple\u001b[0m\u001b[0;34m(\u001b[0m\u001b[0mkey\u001b[0m\u001b[0;34m)\u001b[0m\u001b[0;34m\u001b[0m\u001b[0;34m\u001b[0m\u001b[0m\n\u001b[0m\u001b[1;32m   1049\u001b[0m \u001b[0;34m\u001b[0m\u001b[0m\n\u001b[1;32m   1050\u001b[0m         \u001b[0;32melif\u001b[0m \u001b[0;32mnot\u001b[0m \u001b[0mis_list_like\u001b[0m\u001b[0;34m(\u001b[0m\u001b[0mkey\u001b[0m\u001b[0;34m)\u001b[0m\u001b[0;34m:\u001b[0m\u001b[0;34m\u001b[0m\u001b[0;34m\u001b[0m\u001b[0m\n",
      "\u001b[0;32m~/.pyenv/versions/3.8.1/lib/python3.8/site-packages/pandas/core/series.py\u001b[0m in \u001b[0;36m_get_values_tuple\u001b[0;34m(self, key)\u001b[0m\n\u001b[1;32m   1080\u001b[0m             \u001b[0;31m# the asarray is needed to avoid returning a 2D DatetimeArray\u001b[0m\u001b[0;34m\u001b[0m\u001b[0;34m\u001b[0m\u001b[0;34m\u001b[0m\u001b[0m\n\u001b[1;32m   1081\u001b[0m             \u001b[0mresult\u001b[0m \u001b[0;34m=\u001b[0m \u001b[0mnp\u001b[0m\u001b[0;34m.\u001b[0m\u001b[0masarray\u001b[0m\u001b[0;34m(\u001b[0m\u001b[0mself\u001b[0m\u001b[0;34m.\u001b[0m\u001b[0m_values\u001b[0m\u001b[0;34m[\u001b[0m\u001b[0mkey\u001b[0m\u001b[0;34m]\u001b[0m\u001b[0;34m)\u001b[0m\u001b[0;34m\u001b[0m\u001b[0;34m\u001b[0m\u001b[0m\n\u001b[0;32m-> 1082\u001b[0;31m             \u001b[0mdisallow_ndim_indexing\u001b[0m\u001b[0;34m(\u001b[0m\u001b[0mresult\u001b[0m\u001b[0;34m)\u001b[0m\u001b[0;34m\u001b[0m\u001b[0;34m\u001b[0m\u001b[0m\n\u001b[0m\u001b[1;32m   1083\u001b[0m             \u001b[0;32mreturn\u001b[0m \u001b[0mresult\u001b[0m\u001b[0;34m\u001b[0m\u001b[0;34m\u001b[0m\u001b[0m\n\u001b[1;32m   1084\u001b[0m \u001b[0;34m\u001b[0m\u001b[0m\n",
      "\u001b[0;32m~/.pyenv/versions/3.8.1/lib/python3.8/site-packages/pandas/core/indexers/utils.py\u001b[0m in \u001b[0;36mdisallow_ndim_indexing\u001b[0;34m(result)\u001b[0m\n\u001b[1;32m    341\u001b[0m     \"\"\"\n\u001b[1;32m    342\u001b[0m     \u001b[0;32mif\u001b[0m \u001b[0mnp\u001b[0m\u001b[0;34m.\u001b[0m\u001b[0mndim\u001b[0m\u001b[0;34m(\u001b[0m\u001b[0mresult\u001b[0m\u001b[0;34m)\u001b[0m \u001b[0;34m>\u001b[0m \u001b[0;36m1\u001b[0m\u001b[0;34m:\u001b[0m\u001b[0;34m\u001b[0m\u001b[0;34m\u001b[0m\u001b[0m\n\u001b[0;32m--> 343\u001b[0;31m         raise ValueError(\n\u001b[0m\u001b[1;32m    344\u001b[0m             \u001b[0;34m\"Multi-dimensional indexing (e.g. `obj[:, None]`) is no longer \"\u001b[0m\u001b[0;34m\u001b[0m\u001b[0;34m\u001b[0m\u001b[0m\n\u001b[1;32m    345\u001b[0m             \u001b[0;34m\"supported. Convert to a numpy array before indexing instead.\"\u001b[0m\u001b[0;34m\u001b[0m\u001b[0;34m\u001b[0m\u001b[0m\n",
      "\u001b[0;31mValueError\u001b[0m: Multi-dimensional indexing (e.g. `obj[:, None]`) is no longer supported. Convert to a numpy array before indexing instead."
     ]
    },
    {
     "data": {
      "image/png": "[encoded data removed]",
      "text/plain": [
       "<Figure size 720x432 with 1 Axes>"
      ]
     },
     "metadata": {
      "needs_background": "light"
     },
     "output_type": "display_data"
    }
   ],
   "source": [
    "display(Markdown('## Table of Contents'))\n",
    "\n",
    "measure_list = measure_list.sort_values(by='name') # sort by name\n",
    "for m in measure_list['measure_name']:\n",
    "    measure_link = f\"https://openprescribing.net/measure/{m}\"\n",
    "    measure_description = measure_list.loc[measure_list[\"measure_name\"] == m, \"name\"]\n",
    "    if len(measure_description) > 0:\n",
    "        measure_description=measure_description.iloc[0]\n",
    "    \n",
    "        display(Markdown(f'<a href=#{m}>- {measure_description}</a>'))\n",
    "        \n",
    "        \n",
    "for m in measure_list['measure_name']:\n",
    "    \n",
    "    measure_link = f\"https://openprescribing.net/measure/{m}\"\n",
    "    measure_description = measure_list.loc[measure_list[\"measure_name\"] == m, \"name\"]\n",
    "    percentage = measure_list.loc[measure_list[\"measure_name\"] == m, \"is_percentage\"].item() # create percentage flag for formatting\n",
    "    y_string = measure_list.loc[measure_list[\"measure_name\"] == m, \"y_label\"].item() # create percentage flag for formatting\n",
    "    if len(measure_description) > 0:\n",
    "        measure_description=measure_description.iloc[0]\n",
    "        \n",
    "        display(Markdown(f'<h2 id={m}><a href={measure_link}>{measure_description}</a></h2>'))\n",
    "        data = pd.read_csv(DATA_FOLDER / f'ccg_data_{m}/bq_cache.csv', parse_dates=[\"month\"])\n",
    "        data[\"rate\"] = data[\"numerator\"]/data[\"denominator\"]\n",
    "\n",
    "        data[\"percentile\"] = data.groupby([\"month\"])[\"rate\"].rank(pct=True)\n",
    "    \n",
    "        deciles = compute_deciles(data, \"month\", \"rate\")\n",
    "\n",
    "        processor = DataFrameProcessor(data, config, verbose=config.get('show_filter_results', False))\n",
    "        filtered_ccgs = processor.apply_combined_filters()\n",
    "\n",
    "\n",
    "        num_orgs_identified = len(filtered_ccgs)\n",
    "        # Main loop to plot CCG data\n",
    "        if num_orgs_identified > 0:\n",
    "#             display(Markdown(f\"Number of organisations with improvement identified: {num_orgs_identified}\"))\n",
    "            for ccg in filtered_ccgs:\n",
    "                sicbl_link = f\"https://openprescribing.net/measure/{m}/sicbl/{ccg}\"\n",
    "                ccg_name = ccg_names.loc[ccg_names[\"code\"]==ccg, \"name\"].values[0]\n",
    "                display(Markdown(f'<h4><a href={sicbl_link}>{ccg_name}</a></h4>'))\n",
    "                fig = plot_org_data(ccg, data, deciles, percentage, y_string)\n",
    "                \n",
    "             \n",
    "        else:\n",
    "            display(Markdown(\"No organisations met the technical criteria for detecting substantial change on this measure.\"))"
   ]
  },
  {
   "cell_type": "code",
   "execution_count": null,
   "metadata": {
    "lines_to_next_cell": 2
   },
   "outputs": [],
   "source": [
    "!jupyter nbconvert --to html --execute SICBL improvement radar.ipynb --no-input --ExecutePreprocessor.timeout=-1"
   ]
  },
  {
   "cell_type": "code",
   "execution_count": null,
   "metadata": {},
   "outputs": [],
   "source": []
  }
 ],
 "metadata": {
  "jupytext": {
   "cell_metadata_filter": "all",
   "encoding": "# -*- coding: utf-8 -*-",
   "notebook_metadata_filter": "all,-language_info",
   "text_representation": {
    "extension": ".py",
    "format_name": "light",
    "format_version": "1.5",
    "jupytext_version": "1.3.3"
   }
  },
  "kernelspec": {
   "display_name": "Python 3",
   "language": "python",
   "name": "python3"
  },
  "language_info": {
   "codemirror_mode": {
    "name": "ipython",
    "version": 3
   },
   "file_extension": ".py",
   "mimetype": "text/x-python",
   "name": "python",
   "nbconvert_exporter": "python",
   "pygments_lexer": "ipython3",
   "version": "3.8.1"
  },
  "vscode": {
   "interpreter": {
    "hash": "692be894feba73f0646533f6ae9a20606d08b65b9e0f7c2d28298b63f25cbb72"
   }
  }
 },
 "nbformat": 4,
 "nbformat_minor": 4
}
