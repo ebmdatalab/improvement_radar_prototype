{
 "cells": [
  {
   "cell_type": "code",
   "execution_count": 1,
   "metadata": {},
   "outputs": [],
   "source": [
    "import pandas as pd\n",
    "import json\n",
    "import requests\n",
    "from pandas import json_normalize\n",
    "#import ebmdatalab\n",
    "from ebmdatalab import bq\n",
    "import os"
   ]
  },
  {
   "cell_type": "code",
   "execution_count": 2,
   "metadata": {},
   "outputs": [],
   "source": [
    "res = requests.get('https://api.github.com/repos/ebmdatalab/openprescribing/contents/openprescribing/measures/definitions') #uses GitHub API to get list of all files listed in measure definitions - defaults to main branch\n",
    "data = res.text #creates text from API result\n",
    "df = pd.read_json(data) #turns JSON from API result into dataframe"
   ]
  },
  {
   "cell_type": "code",
   "execution_count": 3,
   "metadata": {},
   "outputs": [],
   "source": [
    "json_df = pd.DataFrame() #creates blank dataframe\n",
    "for row in df[df['name'].str.contains('.json')].itertuples(index=True): #iterates through rows, and continues if file is .json\n",
    "        url = (getattr(row, \"download_url\")) #gets URL from API request  \n",
    "        data = json.loads(requests.get(url).text) #gets JSON from measure definition URL\n",
    "        norm_df = pd.json_normalize(data, max_level=1) #normalises measure definition JSON into dataframe\n",
    "        json_df = pd.concat([json_df,norm_df], axis=0, ignore_index=True) # concatentates into single dataframe\n",
    "        json_df['file_name'] = 'ccg_data_' + df['name'].str.split('.').str[0].copy()"
   ]
  },
  {
   "cell_type": "code",
   "execution_count": 4,
   "metadata": {},
   "outputs": [],
   "source": [
    "tags_df = json_df.explode('tags')\n",
    "core_df = tags_df[['file_name', 'tags', 'radar_exclude']].copy()\n",
    "filtered_core_df = core_df[((core_df['tags'].str.contains('core')) | (core_df['tags'].str.contains('lowpriority'))) & (core_df['radar_exclude'] != 'True')]"
   ]
  },
  {
   "cell_type": "code",
   "execution_count": 5,
   "metadata": {},
   "outputs": [
    {
     "data": {
      "text/html": [
       "<div>\n",
       "<style scoped>\n",
       "    .dataframe tbody tr th:only-of-type {\n",
       "        vertical-align: middle;\n",
       "    }\n",
       "\n",
       "    .dataframe tbody tr th {\n",
       "        vertical-align: top;\n",
       "    }\n",
       "\n",
       "    .dataframe thead th {\n",
       "        text-align: right;\n",
       "    }\n",
       "</style>\n",
       "<table border=\"1\" class=\"dataframe\">\n",
       "  <thead>\n",
       "    <tr style=\"text-align: right;\">\n",
       "      <th></th>\n",
       "      <th>file_name</th>\n",
       "      <th>tags</th>\n",
       "      <th>radar_exclude</th>\n",
       "    </tr>\n",
       "  </thead>\n",
       "  <tbody>\n",
       "    <tr>\n",
       "      <th>0</th>\n",
       "      <td>ccg_data_aafpercent</td>\n",
       "      <td>core</td>\n",
       "      <td>NaN</td>\n",
       "    </tr>\n",
       "    <tr>\n",
       "      <th>1</th>\n",
       "      <td>ccg_data_amox_500_15_caps</td>\n",
       "      <td>core</td>\n",
       "      <td>False</td>\n",
       "    </tr>\n",
       "    <tr>\n",
       "      <th>2</th>\n",
       "      <td>ccg_data_bdzadq</td>\n",
       "      <td>core</td>\n",
       "      <td>NaN</td>\n",
       "    </tr>\n",
       "    <tr>\n",
       "      <th>3</th>\n",
       "      <td>ccg_data_bdzper1000</td>\n",
       "      <td>core</td>\n",
       "      <td>NaN</td>\n",
       "    </tr>\n",
       "    <tr>\n",
       "      <th>4</th>\n",
       "      <td>ccg_data_carbon_salbutamol</td>\n",
       "      <td>core</td>\n",
       "      <td>False</td>\n",
       "    </tr>\n",
       "    <tr>\n",
       "      <th>...</th>\n",
       "      <td>...</td>\n",
       "      <td>...</td>\n",
       "      <td>...</td>\n",
       "    </tr>\n",
       "    <tr>\n",
       "      <th>65</th>\n",
       "      <td>ccg_data_solublepara</td>\n",
       "      <td>core</td>\n",
       "      <td>NaN</td>\n",
       "    </tr>\n",
       "    <tr>\n",
       "      <th>66</th>\n",
       "      <td>ccg_data_statinintensity</td>\n",
       "      <td>core</td>\n",
       "      <td>NaN</td>\n",
       "    </tr>\n",
       "    <tr>\n",
       "      <th>68</th>\n",
       "      <td>ccg_data_toothpaste</td>\n",
       "      <td>core</td>\n",
       "      <td>NaN</td>\n",
       "    </tr>\n",
       "    <tr>\n",
       "      <th>71</th>\n",
       "      <td>ccg_data_uti_antibiotics_3_day</td>\n",
       "      <td>core</td>\n",
       "      <td>NaN</td>\n",
       "    </tr>\n",
       "    <tr>\n",
       "      <th>73</th>\n",
       "      <td>ccg_data_vitbper1000</td>\n",
       "      <td>core</td>\n",
       "      <td>NaN</td>\n",
       "    </tr>\n",
       "  </tbody>\n",
       "</table>\n",
       "<p>69 rows × 3 columns</p>\n",
       "</div>"
      ],
      "text/plain": [
       "                         file_name  tags radar_exclude\n",
       "0              ccg_data_aafpercent  core           NaN\n",
       "1        ccg_data_amox_500_15_caps  core         False\n",
       "2                  ccg_data_bdzadq  core           NaN\n",
       "3              ccg_data_bdzper1000  core           NaN\n",
       "4       ccg_data_carbon_salbutamol  core         False\n",
       "..                             ...   ...           ...\n",
       "65            ccg_data_solublepara  core           NaN\n",
       "66        ccg_data_statinintensity  core           NaN\n",
       "68             ccg_data_toothpaste  core           NaN\n",
       "71  ccg_data_uti_antibiotics_3_day  core           NaN\n",
       "73            ccg_data_vitbper1000  core           NaN\n",
       "\n",
       "[69 rows x 3 columns]"
      ]
     },
     "metadata": {},
     "output_type": "display_data"
    }
   ],
   "source": [
    "display(filtered_core_df)"
   ]
  },
  {
   "cell_type": "code",
   "execution_count": null,
   "metadata": {},
   "outputs": [
    {
     "name": "stdout",
     "output_type": "stream",
     "text": [
      "Please visit this URL to authorize this application: https://accounts.google.com/o/oauth2/auth?response_type=code&client_id=725825577420-unm2gnkiprugilg743tkbig250f4sfsj.apps.googleusercontent.com&redirect_uri=urn%3Aietf%3Awg%3Aoauth%3A2.0%3Aoob&scope=https%3A%2F%2Fwww.googleapis.com%2Fauth%2Fbigquery&state=sekWra1pmC6S80kebGnVn9nBOTc3yg&prompt=consent&access_type=offline\n"
     ]
    }
   ],
   "source": [
    "#create for next loop to go through each table name in the previous query\n",
    "for name in filtered_core_df['file_name']:\n",
    "    \n",
    "    sql = \"\"\"\n",
    "    SELECT\n",
    "      month, \n",
    "      pct_id as code, \n",
    "      numerator, \n",
    "      denominator, \n",
    "    FROM\n",
    "      `ebmdatalab.measures.{}` AS a\n",
    "    \"\"\"\n",
    "    \n",
    "    sql = sql.format(name) #using python string to add table_name to SQL\n",
    "    #concatenate each table name into single file during for next loop\n",
    "    bq.cached_read(sql, os.path.join(\"..\", \"data\", \"test\", \"{}\", \"bq_cache.csv\").format(name), use_cache=False)"
   ]
  },
  {
   "cell_type": "code",
   "execution_count": null,
   "metadata": {},
   "outputs": [],
   "source": []
  }
 ],
 "metadata": {
  "jupytext": {
   "cell_metadata_filter": "all",
   "notebook_metadata_filter": "all,-language_info",
   "text_representation": {
    "extension": ".py",
    "format_name": "light",
    "format_version": "1.5",
    "jupytext_version": "1.3.3"
   }
  },
  "kernelspec": {
   "display_name": "Python 3",
   "language": "python",
   "name": "python3"
  },
  "language_info": {
   "codemirror_mode": {
    "name": "ipython",
    "version": 3
   },
   "file_extension": ".py",
   "mimetype": "text/x-python",
   "name": "python",
   "nbconvert_exporter": "python",
   "pygments_lexer": "ipython3",
   "version": "3.8.1"
  }
 },
 "nbformat": 4,
 "nbformat_minor": 4
}
