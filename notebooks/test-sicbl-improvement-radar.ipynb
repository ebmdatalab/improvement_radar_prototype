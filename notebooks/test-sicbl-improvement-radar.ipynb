{
 "cells": [
  {
   "cell_type": "code",
   "execution_count": 1,
   "metadata": {
    "lines_to_next_cell": 2
   },
   "outputs": [],
   "source": [
    "import requests\n",
    "from pathlib import Path\n",
    "import pandas as pd\n",
    "import numpy as np\n",
    "from IPython.display import Markdown, display, HTML\n",
    "import matplotlib.pyplot as plt\n",
    "from ebmdatalab import bq\n",
    "import os\n",
    "import json\n",
    "from pandas import json_normalize\n",
    "import shutil\n",
    "import matplotlib.ticker as mtick\n",
    "import pandas_gbq\n",
    "import tqdm\n",
    "import warnings\n",
    "from io import StringIO\n",
    "# Suppress FutureWarning messages\n",
    "#warnings.simplefilter(action='ignore', category=(FutureWarning, DeprecationWarning))"
   ]
  },
  {
   "cell_type": "code",
   "execution_count": 2,
   "metadata": {},
   "outputs": [],
   "source": [
    "tool_summary = \"\"\"# OpenPrescribing Improvement Radar\n",
    "\n",
    "## What this tool does\n",
    "\n",
    "This tool identifies sub-ICB locations (SICBLs) which have shown substantial improvement across each of our OpenPrescribing measures. The five SICBLs with the largest improvement are reported. We hope this will stimulate discussion with areas that have made effective changes so that successful strategies can be shared.\n",
    "\n",
    "## How it works\n",
    "\n",
    "The tool currently uses the following criteria to identify improvement:\n",
    "   \n",
    "* SICBLs needed to be, on average, in the highest 20% during the first 6 months of the time period shown.\n",
    "* SICBLs needed to improve to be, on average, in the lowest 50% of SICBLs during the last 6 months of the period shown.\n",
    "* The rate of the measure has to decrease by at least 5% across the time period shown (calculated as the difference between the average rate for the first 6 months and the last 6 months).\n",
    "* There needed to be, on average, at least 50 prescription items written.\n",
    "\n",
    "We are continuing to review how we might further optimise these criteria to detect even more interesting changes in future. For example, we may be able to introduce elements of a ‘trend indicator saturation’ methodology (which we have used in previous research). You can find more information on this [here](https://www.bmj.com/content/367/bmj.l5205), including a podcast on our work with Professor Ben Goldacre.\n",
    "\n",
    "## Interpretation notes\n",
    "    \n",
    "These pilot results are provided for the interest of advanced users, although we don't know how relevant they are in practice. There is substantial variation in prescribing behaviours, across various different areas of medicine. Some variation can be explained by demographic changes, or local policies or guidelines, but much of the remaining variation is less easy to explain.</details>\n",
    "\n",
    "We are keen to hear your feedback on this tool and how you use it. You can do this by emailing us at bennett@phc.ox.ac.uk. Please do not include patient identifiable information in your feedback.\n",
    "\n",
    "<b>This tool currently uses prescribing data between \"\"\" "
   ]
  },
  {
   "cell_type": "code",
   "execution_count": 3,
   "metadata": {},
   "outputs": [
    {
     "data": {
      "text/markdown": [
       "# OpenPrescribing Improvement Radar\n",
       "\n",
       "## What this tool does\n",
       "\n",
       "This tool identifies sub-ICB locations (SICBLs) which have shown substantial improvement across each of our OpenPrescribing measures. The five SICBLs with the largest improvement are reported. We hope this will stimulate discussion with areas that have made effective changes so that successful strategies can be shared.\n",
       "\n",
       "## How it works\n",
       "\n",
       "The tool currently uses the following criteria to identify improvement:\n",
       "   \n",
       "* SICBLs needed to be, on average, in the highest 20% during the first 6 months of the time period shown.\n",
       "* SICBLs needed to improve to be, on average, in the lowest 50% of SICBLs during the last 6 months of the period shown.\n",
       "* The rate of the measure has to decrease by at least 5% across the time period shown (calculated as the difference between the average rate for the first 6 months and the last 6 months).\n",
       "* There needed to be, on average, at least 50 prescription items written.\n",
       "\n",
       "We are continuing to review how we might further optimise these criteria to detect even more interesting changes in future. For example, we may be able to introduce elements of a ‘trend indicator saturation’ methodology (which we have used in previous research). You can find more information on this [here](https://www.bmj.com/content/367/bmj.l5205), including a podcast on our work with Professor Ben Goldacre.\n",
       "\n",
       "## Interpretation notes\n",
       "    \n",
       "These pilot results are provided for the interest of advanced users, although we don't know how relevant they are in practice. There is substantial variation in prescribing behaviours, across various different areas of medicine. Some variation can be explained by demographic changes, or local policies or guidelines, but much of the remaining variation is less easy to explain.</details>\n",
       "\n",
       "We are keen to hear your feedback on this tool and how you use it. You can do this by emailing us at bennett@phc.ox.ac.uk. Please do not include patient identifiable information in your feedback.\n",
       "\n",
       "<b>This tool currently uses prescribing data between "
      ],
      "text/plain": [
       "<IPython.core.display.Markdown object>"
      ]
     },
     "metadata": {},
     "output_type": "display_data"
    }
   ],
   "source": [
    "display(Markdown(tool_summary))"
   ]
  },
  {
   "cell_type": "code",
   "execution_count": null,
   "metadata": {},
   "outputs": [],
   "source": []
  }
 ],
 "metadata": {
  "jupytext": {
   "cell_metadata_filter": "all",
   "encoding": "# -*- coding: utf-8 -*-",
   "notebook_metadata_filter": "all,-language_info"
  },
  "kernelspec": {
   "display_name": "Python 3 (ipykernel)",
   "language": "python",
   "name": "python3"
  },
  "language_info": {
   "codemirror_mode": {
    "name": "ipython",
    "version": 3
   },
   "file_extension": ".py",
   "mimetype": "text/x-python",
   "name": "python",
   "nbconvert_exporter": "python",
   "pygments_lexer": "ipython3",
   "version": "3.12.5"
  },
  "vscode": {
   "interpreter": {
    "hash": "692be894feba73f0646533f6ae9a20606d08b65b9e0f7c2d28298b63f25cbb72"
   }
  }
 },
 "nbformat": 4,
 "nbformat_minor": 4
}
